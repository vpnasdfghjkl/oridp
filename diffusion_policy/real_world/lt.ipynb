{
 "cells": [
  {
   "cell_type": "code",
   "execution_count": 1,
   "metadata": {},
   "outputs": [],
   "source": [
    "from sensor_msgs.msg import CompressedImage\n",
    "\n",
    "dic = dict()\n",
    "def f1():\n",
    "    print(\"f1\")\n",
    "dic={\n",
    "    CompressedImage: f1,\n",
    "}\n",
    "f = dic(CompressedImage)\n"
   ]
  },
  {
   "cell_type": "code",
   "execution_count": 61,
   "metadata": {},
   "outputs": [
    {
     "name": "stdout",
     "output_type": "stream",
     "text": [
      "2024-09-25 08:59:13.844098\n"
     ]
    }
   ],
   "source": [
    "print((obs_buffer.obs_buffer_data[\"img\"][\"timestamp\"][-1]))"
   ]
  },
  {
   "cell_type": "code",
   "execution_count": 52,
   "metadata": {},
   "outputs": [
    {
     "name": "stdout",
     "output_type": "stream",
     "text": [
      "thread ended\n"
     ]
    }
   ],
   "source": [
    "obs_buffer.end_thread()"
   ]
  },
  {
   "cell_type": "code",
   "execution_count": 10,
   "metadata": {},
   "outputs": [
    {
     "name": "stdout",
     "output_type": "stream",
     "text": [
      "deque([0], maxlen=5)\n",
      "[0]\n",
      "deque([0, 1], maxlen=5)\n",
      "[0, 1]\n",
      "deque([0, 1, 2], maxlen=5)\n",
      "[1, 2]\n",
      "deque([0, 1, 2, 3], maxlen=5)\n",
      "[2, 3]\n",
      "deque([0, 1, 2, 3, 4], maxlen=5)\n",
      "[3, 4]\n",
      "deque([1, 2, 3, 4, 5], maxlen=5)\n",
      "[4, 5]\n",
      "deque([2, 3, 4, 5, 6], maxlen=5)\n",
      "[5, 6]\n",
      "deque([3, 4, 5, 6, 7], maxlen=5)\n",
      "[6, 7]\n",
      "deque([4, 5, 6, 7, 8], maxlen=5)\n",
      "[7, 8]\n",
      "deque([5, 6, 7, 8, 9], maxlen=5)\n",
      "[8, 9]\n"
     ]
    }
   ],
   "source": [
    "array = np.array([1, 2, 3, 4, 5])\n",
    "array[-2:]\n",
    "\n",
    "dq = deque(maxlen=5)\n",
    "for i in range(10):\n",
    "    dq.append(i)\n",
    "    print(dq)\n",
    "    print(list(dq)[-2:])"
   ]
  },
  {
   "cell_type": "code",
   "execution_count": 3,
   "metadata": {},
   "outputs": [
    {
     "data": {
      "text/plain": [
       "array([[0.27471489, 0.00232868, 0.97361748, 0.364179  , 0.98956983,\n",
       "        0.05431989, 0.14014572],\n",
       "       [0.40776176, 0.44547328, 0.08895904, 0.42344698, 0.72120489,\n",
       "        0.05258932, 0.36788217]])"
      ]
     },
     "execution_count": 3,
     "metadata": {},
     "output_type": "execute_result"
    }
   ],
   "source": [
    "import numpy as np\n",
    "hand=np.random.rand(2, 1)\n",
    "eef=np.random.rand(2, 6)\n",
    "np.concatenate((hand, eef), axis=1)"
   ]
  },
  {
   "cell_type": "code",
   "execution_count": 4,
   "metadata": {},
   "outputs": [
    {
     "data": {
      "text/plain": [
       "5"
      ]
     },
     "execution_count": 4,
     "metadata": {},
     "output_type": "execute_result"
    }
   ],
   "source": [
    "a = [1,2,3,4,5]\n",
    "a[-1]"
   ]
  }
 ],
 "metadata": {
  "kernelspec": {
   "display_name": "robomimic",
   "language": "python",
   "name": "python3"
  },
  "language_info": {
   "codemirror_mode": {
    "name": "ipython",
    "version": 3
   },
   "file_extension": ".py",
   "mimetype": "text/x-python",
   "name": "python",
   "nbconvert_exporter": "python",
   "pygments_lexer": "ipython3",
   "version": "3.8.19"
  }
 },
 "nbformat": 4,
 "nbformat_minor": 2
}
